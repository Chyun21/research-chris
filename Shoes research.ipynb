{
 "cells": [
  {
   "cell_type": "code",
   "execution_count": 1,
   "metadata": {},
   "outputs": [],
   "source": [
    "# Run this cell to set up the notebook, but please don't change it.\n",
    "import numpy as np\n",
    "import math\n",
    "from datascience import *\n",
    "\n",
    "# These lines set up the plotting functionality and formatting.\n",
    "import matplotlib\n",
    "matplotlib.use('Agg')\n",
    "%matplotlib inline\n",
    "import matplotlib.pyplot as plots\n",
    "plots.style.use('fivethirtyeight')"
   ]
  },
  {
   "cell_type": "code",
   "execution_count": 2,
   "metadata": {},
   "outputs": [],
   "source": [
    "shoes = Table().read_table('Shoe Sales.csv')"
   ]
  },
  {
   "cell_type": "code",
   "execution_count": 4,
   "metadata": {},
   "outputs": [
    {
     "data": {
      "text/html": [
       "<table border=\"1\" class=\"dataframe\">\n",
       "    <thead>\n",
       "        <tr>\n",
       "            <th>Order Date</th> <th>Brand</th> <th>Sneaker Name</th> <th>Sale Price</th> <th>Retail Price</th> <th>Release Date</th> <th>Shoe Size</th> <th>Buyer Region</th>\n",
       "        </tr>\n",
       "    </thead>\n",
       "    <tbody>\n",
       "        <tr>\n",
       "            <td>9/1/17    </td> <td> Yeezy</td> <td>Adidas-Yeezy-Boost-350-Low-V2-Beluga         </td> <td>$1,097    </td> <td>$220        </td> <td>9/24/16     </td> <td>11       </td> <td>California  </td>\n",
       "        </tr>\n",
       "        <tr>\n",
       "            <td>9/1/17    </td> <td> Yeezy</td> <td>Adidas-Yeezy-Boost-350-V2-Core-Black-Copper  </td> <td>$685      </td> <td>$220        </td> <td>11/23/16    </td> <td>11       </td> <td>California  </td>\n",
       "        </tr>\n",
       "        <tr>\n",
       "            <td>9/1/17    </td> <td> Yeezy</td> <td>Adidas-Yeezy-Boost-350-V2-Core-Black-Green   </td> <td>$690      </td> <td>$220        </td> <td>11/23/16    </td> <td>11       </td> <td>California  </td>\n",
       "        </tr>\n",
       "        <tr>\n",
       "            <td>9/1/17    </td> <td> Yeezy</td> <td>Adidas-Yeezy-Boost-350-V2-Core-Black-Red     </td> <td>$1,075    </td> <td>$220        </td> <td>11/23/16    </td> <td>11.5     </td> <td>Kentucky    </td>\n",
       "        </tr>\n",
       "        <tr>\n",
       "            <td>9/1/17    </td> <td> Yeezy</td> <td>Adidas-Yeezy-Boost-350-V2-Core-Black-Red-2017</td> <td>$828      </td> <td>$220        </td> <td>2/11/17     </td> <td>11       </td> <td>Rhode Island</td>\n",
       "        </tr>\n",
       "        <tr>\n",
       "            <td>9/1/17    </td> <td> Yeezy</td> <td>Adidas-Yeezy-Boost-350-V2-Core-Black-Red-2017</td> <td>$798      </td> <td>$220        </td> <td>2/11/17     </td> <td>8.5      </td> <td>Michigan    </td>\n",
       "        </tr>\n",
       "        <tr>\n",
       "            <td>9/1/17    </td> <td> Yeezy</td> <td>Adidas-Yeezy-Boost-350-V2-Core-Black-White   </td> <td>$784      </td> <td>$220        </td> <td>12/17/16    </td> <td>11       </td> <td>California  </td>\n",
       "        </tr>\n",
       "        <tr>\n",
       "            <td>9/1/17    </td> <td> Yeezy</td> <td>Adidas-Yeezy-Boost-350-V2-Cream-White        </td> <td>$460      </td> <td>$220        </td> <td>4/29/17     </td> <td>10       </td> <td>New York    </td>\n",
       "        </tr>\n",
       "        <tr>\n",
       "            <td>9/1/17    </td> <td> Yeezy</td> <td>Adidas-Yeezy-Boost-350-V2-Cream-White        </td> <td>$465      </td> <td>$220        </td> <td>4/29/17     </td> <td>11       </td> <td>Kansas      </td>\n",
       "        </tr>\n",
       "        <tr>\n",
       "            <td>9/1/17    </td> <td> Yeezy</td> <td>Adidas-Yeezy-Boost-350-V2-Cream-White        </td> <td>$465      </td> <td>$220        </td> <td>4/29/17     </td> <td>11       </td> <td>Florida     </td>\n",
       "        </tr>\n",
       "    </tbody>\n",
       "</table>\n",
       "<p>... (99946 rows omitted)</p>"
      ],
      "text/plain": [
       "Order Date | Brand  | Sneaker Name                                  | Sale Price | Retail Price | Release Date | Shoe Size | Buyer Region\n",
       "9/1/17     |  Yeezy | Adidas-Yeezy-Boost-350-Low-V2-Beluga          | $1,097     | $220         | 9/24/16      | 11        | California\n",
       "9/1/17     |  Yeezy | Adidas-Yeezy-Boost-350-V2-Core-Black-Copper   | $685       | $220         | 11/23/16     | 11        | California\n",
       "9/1/17     |  Yeezy | Adidas-Yeezy-Boost-350-V2-Core-Black-Green    | $690       | $220         | 11/23/16     | 11        | California\n",
       "9/1/17     |  Yeezy | Adidas-Yeezy-Boost-350-V2-Core-Black-Red      | $1,075     | $220         | 11/23/16     | 11.5      | Kentucky\n",
       "9/1/17     |  Yeezy | Adidas-Yeezy-Boost-350-V2-Core-Black-Red-2017 | $828       | $220         | 2/11/17      | 11        | Rhode Island\n",
       "9/1/17     |  Yeezy | Adidas-Yeezy-Boost-350-V2-Core-Black-Red-2017 | $798       | $220         | 2/11/17      | 8.5       | Michigan\n",
       "9/1/17     |  Yeezy | Adidas-Yeezy-Boost-350-V2-Core-Black-White    | $784       | $220         | 12/17/16     | 11        | California\n",
       "9/1/17     |  Yeezy | Adidas-Yeezy-Boost-350-V2-Cream-White         | $460       | $220         | 4/29/17      | 10        | New York\n",
       "9/1/17     |  Yeezy | Adidas-Yeezy-Boost-350-V2-Cream-White         | $465       | $220         | 4/29/17      | 11        | Kansas\n",
       "9/1/17     |  Yeezy | Adidas-Yeezy-Boost-350-V2-Cream-White         | $465       | $220         | 4/29/17      | 11        | Florida\n",
       "... (99946 rows omitted)"
      ]
     },
     "execution_count": 4,
     "metadata": {},
     "output_type": "execute_result"
    }
   ],
   "source": [
    "shoes"
   ]
  },
  {
   "cell_type": "code",
   "execution_count": 8,
   "metadata": {},
   "outputs": [],
   "source": [
    "sneakernames = shoes.group('Sneaker Name')"
   ]
  },
  {
   "cell_type": "code",
   "execution_count": 9,
   "metadata": {},
   "outputs": [
    {
     "data": {
      "text/html": [
       "<table border=\"1\" class=\"dataframe\">\n",
       "    <thead>\n",
       "        <tr>\n",
       "            <th>Sneaker Name</th> <th>count</th>\n",
       "        </tr>\n",
       "    </thead>\n",
       "    <tbody>\n",
       "        <tr>\n",
       "            <td>Adidas-Yeezy-Boost-350-Low-Moonrock              </td> <td>100  </td>\n",
       "        </tr>\n",
       "        <tr>\n",
       "            <td>Adidas-Yeezy-Boost-350-Low-Oxford-Tan            </td> <td>70   </td>\n",
       "        </tr>\n",
       "        <tr>\n",
       "            <td>Adidas-Yeezy-Boost-350-Low-Pirate-Black-2015     </td> <td>95   </td>\n",
       "        </tr>\n",
       "        <tr>\n",
       "            <td>Adidas-Yeezy-Boost-350-Low-Pirate-Black-2016     </td> <td>122  </td>\n",
       "        </tr>\n",
       "        <tr>\n",
       "            <td>Adidas-Yeezy-Boost-350-Low-Turtledove            </td> <td>68   </td>\n",
       "        </tr>\n",
       "        <tr>\n",
       "            <td>Adidas-Yeezy-Boost-350-Low-V2-Beluga             </td> <td>498  </td>\n",
       "        </tr>\n",
       "        <tr>\n",
       "            <td>Adidas-Yeezy-Boost-350-V2-Beluga-2pt0            </td> <td>10395</td>\n",
       "        </tr>\n",
       "        <tr>\n",
       "            <td>Adidas-Yeezy-Boost-350-V2-Blue-Tint              </td> <td>9297 </td>\n",
       "        </tr>\n",
       "        <tr>\n",
       "            <td>Adidas-Yeezy-Boost-350-V2-Core-Black-Copper      </td> <td>225  </td>\n",
       "        </tr>\n",
       "        <tr>\n",
       "            <td>Adidas-Yeezy-Boost-350-V2-Core-Black-Green       </td> <td>196  </td>\n",
       "        </tr>\n",
       "        <tr>\n",
       "            <td>Adidas-Yeezy-Boost-350-V2-Core-Black-Red         </td> <td>302  </td>\n",
       "        </tr>\n",
       "        <tr>\n",
       "            <td>Adidas-Yeezy-Boost-350-V2-Core-Black-Red-2017    </td> <td>969  </td>\n",
       "        </tr>\n",
       "        <tr>\n",
       "            <td>Adidas-Yeezy-Boost-350-V2-Core-Black-White       </td> <td>621  </td>\n",
       "        </tr>\n",
       "        <tr>\n",
       "            <td>Adidas-Yeezy-Boost-350-V2-Cream-White            </td> <td>9097 </td>\n",
       "        </tr>\n",
       "        <tr>\n",
       "            <td>Adidas-Yeezy-Boost-350-V2-Semi-Frozen-Yellow     </td> <td>4854 </td>\n",
       "        </tr>\n",
       "        <tr>\n",
       "            <td>Adidas-Yeezy-Boost-350-V2-Sesame                 </td> <td>5553 </td>\n",
       "        </tr>\n",
       "        <tr>\n",
       "            <td>Adidas-Yeezy-Boost-350-V2-Zebra                  </td> <td>10110</td>\n",
       "        </tr>\n",
       "        <tr>\n",
       "            <td>Air-Jordan-1-Retro-High-Off-White-Chicago        </td> <td>755  </td>\n",
       "        </tr>\n",
       "        <tr>\n",
       "            <td>Air-Jordan-1-Retro-High-Off-White-University-Blue</td> <td>4635 </td>\n",
       "        </tr>\n",
       "        <tr>\n",
       "            <td>Air-Jordan-1-Retro-High-Off-White-White          </td> <td>313  </td>\n",
       "        </tr>\n",
       "        <tr>\n",
       "            <td>Nike-Air-Force-1-Low-Off-White                   </td> <td>476  </td>\n",
       "        </tr>\n",
       "        <tr>\n",
       "            <td>Nike-Air-Force-1-Low-Off-White-Black-White       </td> <td>960  </td>\n",
       "        </tr>\n",
       "        <tr>\n",
       "            <td>Nike-Air-Force-1-Low-Off-White-Volt              </td> <td>1019 </td>\n",
       "        </tr>\n",
       "        <tr>\n",
       "            <td>Nike-Air-Force-1-Low-Virgil-Abloh-Off-White-AF100</td> <td>31   </td>\n",
       "        </tr>\n",
       "        <tr>\n",
       "            <td>Nike-Air-Max-90-Off-White                        </td> <td>627  </td>\n",
       "        </tr>\n",
       "        <tr>\n",
       "            <td>Nike-Air-Max-90-Off-White-Black                  </td> <td>722  </td>\n",
       "        </tr>\n",
       "        <tr>\n",
       "            <td>Nike-Air-Max-90-Off-White-Desert-Ore             </td> <td>649  </td>\n",
       "        </tr>\n",
       "        <tr>\n",
       "            <td>Nike-Air-Max-97-Off-White                        </td> <td>544  </td>\n",
       "        </tr>\n",
       "        <tr>\n",
       "            <td>Nike-Air-Max-97-Off-White-Black                  </td> <td>289  </td>\n",
       "        </tr>\n",
       "        <tr>\n",
       "            <td>Nike-Air-Max-97-Off-White-Elemental-Rose-Queen   </td> <td>216  </td>\n",
       "        </tr>\n",
       "        <tr>\n",
       "            <td>Nike-Air-Max-97-Off-White-Menta                  </td> <td>343  </td>\n",
       "        </tr>\n",
       "        <tr>\n",
       "            <td>Nike-Air-Presto-Off-White                        </td> <td>596  </td>\n",
       "        </tr>\n",
       "        <tr>\n",
       "            <td>Nike-Air-Presto-Off-White-Black-2018             </td> <td>1884 </td>\n",
       "        </tr>\n",
       "        <tr>\n",
       "            <td>Nike-Air-Presto-Off-White-White-2018             </td> <td>1883 </td>\n",
       "        </tr>\n",
       "        <tr>\n",
       "            <td>Nike-Air-VaporMax-Off-White                      </td> <td>525  </td>\n",
       "        </tr>\n",
       "        <tr>\n",
       "            <td>Nike-Air-VaporMax-Off-White-2018                 </td> <td>1591 </td>\n",
       "        </tr>\n",
       "        <tr>\n",
       "            <td>Nike-Air-VaporMax-Off-White-Black                </td> <td>1313 </td>\n",
       "        </tr>\n",
       "        <tr>\n",
       "            <td>Nike-Blazer-Mid-Off-White                        </td> <td>501  </td>\n",
       "        </tr>\n",
       "        <tr>\n",
       "            <td>Nike-Blazer-Mid-Off-White-All-Hallows-Eve        </td> <td>1435 </td>\n",
       "        </tr>\n",
       "        <tr>\n",
       "            <td>Nike-Blazer-Mid-Off-White-Grim-Reaper            </td> <td>1398 </td>\n",
       "        </tr>\n",
       "        <tr>\n",
       "            <td>Nike-Blazer-Mid-Off-White-Wolf-Grey              </td> <td>288  </td>\n",
       "        </tr>\n",
       "        <tr>\n",
       "            <td>Nike-React-Hyperdunk-2017-Flyknit-Off-White      </td> <td>484  </td>\n",
       "        </tr>\n",
       "        <tr>\n",
       "            <td>Nike-Zoom-Fly-Mercurial-Off-White-Black          </td> <td>645  </td>\n",
       "        </tr>\n",
       "        <tr>\n",
       "            <td>Nike-Zoom-Fly-Mercurial-Off-White-Total-Orange   </td> <td>656  </td>\n",
       "        </tr>\n",
       "        <tr>\n",
       "            <td>Nike-Zoom-Fly-Off-White                          </td> <td>435  </td>\n",
       "        </tr>\n",
       "        <tr>\n",
       "            <td>Nike-Zoom-Fly-Off-White-Black-Silver             </td> <td>1222 </td>\n",
       "        </tr>\n",
       "        <tr>\n",
       "            <td>Nike-Zoom-Fly-Off-White-Pink                     </td> <td>1359 </td>\n",
       "        </tr>\n",
       "        <tr>\n",
       "            <td>adidas-Yeezy-Boost-350-V2-Butter                 </td> <td>11423</td>\n",
       "        </tr>\n",
       "        <tr>\n",
       "            <td>adidas-Yeezy-Boost-350-V2-Static                 </td> <td>4983 </td>\n",
       "        </tr>\n",
       "        <tr>\n",
       "            <td>adidas-Yeezy-Boost-350-V2-Static-Reflective      </td> <td>3184 </td>\n",
       "        </tr>\n",
       "    </tbody>\n",
       "</table>"
      ],
      "text/plain": [
       "<IPython.core.display.HTML object>"
      ]
     },
     "metadata": {},
     "output_type": "display_data"
    }
   ],
   "source": [
    "sneakernames.show()"
   ]
  },
  {
   "cell_type": "code",
   "execution_count": 17,
   "metadata": {},
   "outputs": [
    {
     "data": {
      "image/png": "[encoded data removed]",
      "text/plain": [
       "<Figure size 432x288 with 1 Axes>"
      ]
     },
     "metadata": {},
     "output_type": "display_data"
    }
   ],
   "source": [
    "def get_row(sneaker):\n",
    "    return shoes.where('Sneaker Name', are.containing(sneaker))\n",
    "\n",
    "def plotit(sneaker):\n",
    "    row = shoes.where('Sneaker Name', are.containing('adidas')).where('Shoe Size', are.below(7))\n",
    "    x = row.column('Order Date')\n",
    "    y = row.column('Sale Price')\n",
    "    plots.plot(x, y)\n",
    "\n",
    "for name in sneakernames.column(0)[0:20]:\n",
    "    plotit(name)\n",
    "    \n",
    "    "
   ]
  },
  {
   "cell_type": "code",
   "execution_count": 20,
   "metadata": {},
   "outputs": [
    {
     "data": {
      "image/png": "[encoded data removed]",
      "text/plain": [
       "<Figure size 432x288 with 1 Axes>"
      ]
     },
     "metadata": {},
     "output_type": "display_data"
    }
   ],
   "source": [
    "def get_row(sneaker):\n",
    "    return shoes.where('Sneaker Name', are.containing(sneaker))\n",
    "\n",
    "def plotit(sneaker):\n",
    "    row = shoes.where('Sneaker Name', are.containing('Nike')).where('Shoe Size', are.below(7))\n",
    "    x = row.column('Order Date')\n",
    "    y = row.column('Sale Price')\n",
    "    plots.plot(x, y)\n",
    "\n",
    "for name in sneakernames.column(0)[0:20]:\n",
    "    plotit(name)"
   ]
  },
  {
   "cell_type": "code",
   "execution_count": null,
   "metadata": {},
   "outputs": [],
   "source": []
  }
 ],
 "metadata": {
  "kernelspec": {
   "display_name": "Python 3",
   "language": "python",
   "name": "python3"
  },
  "language_info": {
   "codemirror_mode": {
    "name": "ipython",
    "version": 3
   },
   "file_extension": ".py",
   "mimetype": "text/x-python",
   "name": "python",
   "nbconvert_exporter": "python",
   "pygments_lexer": "ipython3",
   "version": "3.8.5"
  }
 },
 "nbformat": 4,
 "nbformat_minor": 4
}
